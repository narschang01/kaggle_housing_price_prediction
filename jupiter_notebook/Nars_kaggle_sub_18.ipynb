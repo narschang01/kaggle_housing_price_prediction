{
 "cells": [
  {
   "cell_type": "markdown",
   "metadata": {},
   "source": [
    "# About NarsLKaggle_sub_17_Interaction_features\n",
    "- This is the Jupyter notebook of the 10th model along the way. \n",
    "- The prediction of this model is produce the best score among all 16 models.\n",
    "- This model begins with loading data from **df_train_sub9.csv'**\n",
    "    - The dataset is the ned relut of 9th model with interaction featres added\n",
    "    - The dummy fields of neighborhoor are excluded from the feature list \n",
    "    - Neighbhoorhood dummies are replaced by the field nb_ranking\n",
    "        - NB_ranking is a manually assigned numeric field \n",
    "        - The number assigned is based on the highest and lowest price range of the neighborhood. \n",
    "        - By adding this field, the intention is to \n",
    "- In this model, there is a list of interact features added to the dataset."
   ]
  },
  {
   "cell_type": "markdown",
   "metadata": {},
   "source": [
    "# Import library"
   ]
  },
  {
   "cell_type": "code",
   "execution_count": 1,
   "metadata": {},
   "outputs": [],
   "source": [
    "import pandas as pd\n",
    "import numpy as np\n",
    "import matplotlib.pyplot as plt\n",
    "import seaborn as sns\n",
    "%matplotlib inline\n",
    "\n",
    "from sklearn.linear_model import LinearRegression\n",
    "from sklearn.model_selection import train_test_split, cross_val_score\n",
    "from sklearn.preprocessing import StandardScaler\n",
    "\n",
    "pd.options.display.max_columns = 120\n",
    "pd.options.display.max_rows = 3000"
   ]
  },
  {
   "cell_type": "markdown",
   "metadata": {},
   "source": [
    "# Loading data"
   ]
  },
  {
   "cell_type": "code",
   "execution_count": 2,
   "metadata": {},
   "outputs": [],
   "source": [
    "df = pd.read_csv('../project_2/df_train_sub10.csv')"
   ]
  },
  {
   "cell_type": "code",
   "execution_count": 3,
   "metadata": {
    "scrolled": false
   },
   "outputs": [
    {
     "data": {
      "text/html": [
       "<div>\n",
       "<style scoped>\n",
       "    .dataframe tbody tr th:only-of-type {\n",
       "        vertical-align: middle;\n",
       "    }\n",
       "\n",
       "    .dataframe tbody tr th {\n",
       "        vertical-align: top;\n",
       "    }\n",
       "\n",
       "    .dataframe thead th {\n",
       "        text-align: right;\n",
       "    }\n",
       "</style>\n",
       "<table border=\"1\" class=\"dataframe\">\n",
       "  <thead>\n",
       "    <tr style=\"text-align: right;\">\n",
       "      <th></th>\n",
       "      <th>id</th>\n",
       "      <th>pid</th>\n",
       "      <th>ms_subclass</th>\n",
       "      <th>ms_zoning</th>\n",
       "      <th>lot_frontage</th>\n",
       "      <th>lot_area</th>\n",
       "      <th>street</th>\n",
       "      <th>alley</th>\n",
       "      <th>lot_shape</th>\n",
       "      <th>land_contour</th>\n",
       "      <th>utilities</th>\n",
       "      <th>lot_config</th>\n",
       "      <th>land_slope</th>\n",
       "      <th>neighborhood</th>\n",
       "      <th>condition_1</th>\n",
       "      <th>condition_2</th>\n",
       "      <th>bldg_type</th>\n",
       "      <th>house_style</th>\n",
       "      <th>overall_qual</th>\n",
       "      <th>overall_cond</th>\n",
       "      <th>year_built</th>\n",
       "      <th>year_remod/add</th>\n",
       "      <th>roof_style</th>\n",
       "      <th>roof_matl</th>\n",
       "      <th>exterior_1st</th>\n",
       "      <th>exterior_2nd</th>\n",
       "      <th>mas_vnr_type</th>\n",
       "      <th>mas_vnr_area</th>\n",
       "      <th>exter_qual</th>\n",
       "      <th>exter_cond</th>\n",
       "      <th>foundation</th>\n",
       "      <th>bsmt_qual</th>\n",
       "      <th>bsmt_cond</th>\n",
       "      <th>bsmt_exposure</th>\n",
       "      <th>bsmtfin_type_1</th>\n",
       "      <th>bsmtfin_sf_1</th>\n",
       "      <th>bsmtfin_type_2</th>\n",
       "      <th>bsmtfin_sf_2</th>\n",
       "      <th>bsmt_unf_sf</th>\n",
       "      <th>total_bsmt_sf</th>\n",
       "      <th>heating</th>\n",
       "      <th>heating_qc</th>\n",
       "      <th>central_air</th>\n",
       "      <th>electrical</th>\n",
       "      <th>1st_flr_sf</th>\n",
       "      <th>2nd_flr_sf</th>\n",
       "      <th>low_qual_fin_sf</th>\n",
       "      <th>gr_liv_area</th>\n",
       "      <th>bsmt_full_bath</th>\n",
       "      <th>bsmt_half_bath</th>\n",
       "      <th>full_bath</th>\n",
       "      <th>half_bath</th>\n",
       "      <th>bedroom_abvgr</th>\n",
       "      <th>kitchen_abvgr</th>\n",
       "      <th>kitchen_qual</th>\n",
       "      <th>totrms_abvgrd</th>\n",
       "      <th>functional</th>\n",
       "      <th>fireplaces</th>\n",
       "      <th>fireplace_qu</th>\n",
       "      <th>garage_type</th>\n",
       "      <th>garage_yr_blt</th>\n",
       "      <th>garage_finish</th>\n",
       "      <th>garage_cars</th>\n",
       "      <th>garage_area</th>\n",
       "      <th>garage_qual</th>\n",
       "      <th>garage_cond</th>\n",
       "      <th>paved_drive</th>\n",
       "      <th>wood_deck_sf</th>\n",
       "      <th>open_porch_sf</th>\n",
       "      <th>enclosed_porch</th>\n",
       "      <th>3ssn_porch</th>\n",
       "      <th>screen_porch</th>\n",
       "      <th>pool_area</th>\n",
       "      <th>pool_qc</th>\n",
       "      <th>fence</th>\n",
       "      <th>misc_feature</th>\n",
       "      <th>misc_val</th>\n",
       "      <th>mo_sold</th>\n",
       "      <th>yr_sold</th>\n",
       "      <th>sale_type</th>\n",
       "      <th>saleprice</th>\n",
       "      <th>neighborhood_Blueste</th>\n",
       "      <th>neighborhood_BrDale</th>\n",
       "      <th>neighborhood_BrkSide</th>\n",
       "      <th>neighborhood_ClearCr</th>\n",
       "      <th>neighborhood_CollgCr</th>\n",
       "      <th>neighborhood_Crawfor</th>\n",
       "      <th>neighborhood_Edwards</th>\n",
       "      <th>neighborhood_Gilbert</th>\n",
       "      <th>neighborhood_Greens</th>\n",
       "      <th>neighborhood_GrnHill</th>\n",
       "      <th>neighborhood_IDOTRR</th>\n",
       "      <th>neighborhood_Landmrk</th>\n",
       "      <th>neighborhood_MeadowV</th>\n",
       "      <th>neighborhood_Mitchel</th>\n",
       "      <th>neighborhood_NAmes</th>\n",
       "      <th>neighborhood_NPkVill</th>\n",
       "      <th>neighborhood_NWAmes</th>\n",
       "      <th>neighborhood_NoRidge</th>\n",
       "      <th>neighborhood_NridgHt</th>\n",
       "      <th>neighborhood_OldTown</th>\n",
       "      <th>neighborhood_SWISU</th>\n",
       "      <th>neighborhood_Sawyer</th>\n",
       "      <th>neighborhood_SawyerW</th>\n",
       "      <th>neighborhood_Somerst</th>\n",
       "      <th>neighborhood_StoneBr</th>\n",
       "      <th>neighborhood_Timber</th>\n",
       "      <th>neighborhood_Veenker</th>\n",
       "      <th>fbxgrla</th>\n",
       "      <th>frxgrla</th>\n",
       "      <th>nb_ranking</th>\n",
       "      <th>nbrkxgla</th>\n",
       "      <th>carsxara</th>\n",
       "    </tr>\n",
       "  </thead>\n",
       "  <tbody>\n",
       "    <tr>\n",
       "      <th>0</th>\n",
       "      <td>109</td>\n",
       "      <td>533352170</td>\n",
       "      <td>60</td>\n",
       "      <td>RL</td>\n",
       "      <td>0.0</td>\n",
       "      <td>13517</td>\n",
       "      <td>Pave</td>\n",
       "      <td>NaN</td>\n",
       "      <td>IR1</td>\n",
       "      <td>Lvl</td>\n",
       "      <td>AllPub</td>\n",
       "      <td>CulDSac</td>\n",
       "      <td>Gtl</td>\n",
       "      <td>Sawyer</td>\n",
       "      <td>RRAe</td>\n",
       "      <td>Norm</td>\n",
       "      <td>1Fam</td>\n",
       "      <td>2Story</td>\n",
       "      <td>6</td>\n",
       "      <td>8</td>\n",
       "      <td>1976</td>\n",
       "      <td>2005</td>\n",
       "      <td>Gable</td>\n",
       "      <td>CompShg</td>\n",
       "      <td>HdBoard</td>\n",
       "      <td>Plywood</td>\n",
       "      <td>BrkFace</td>\n",
       "      <td>289.0</td>\n",
       "      <td>Gd</td>\n",
       "      <td>TA</td>\n",
       "      <td>CBlock</td>\n",
       "      <td>TA</td>\n",
       "      <td>TA</td>\n",
       "      <td>No</td>\n",
       "      <td>GLQ</td>\n",
       "      <td>533.0</td>\n",
       "      <td>Unf</td>\n",
       "      <td>0.0</td>\n",
       "      <td>192.0</td>\n",
       "      <td>725.0</td>\n",
       "      <td>GasA</td>\n",
       "      <td>Ex</td>\n",
       "      <td>Y</td>\n",
       "      <td>SBrkr</td>\n",
       "      <td>725</td>\n",
       "      <td>754</td>\n",
       "      <td>0</td>\n",
       "      <td>1479</td>\n",
       "      <td>0.0</td>\n",
       "      <td>0.0</td>\n",
       "      <td>2</td>\n",
       "      <td>1</td>\n",
       "      <td>3</td>\n",
       "      <td>1</td>\n",
       "      <td>Gd</td>\n",
       "      <td>6</td>\n",
       "      <td>Typ</td>\n",
       "      <td>0</td>\n",
       "      <td>NaN</td>\n",
       "      <td>Attchd</td>\n",
       "      <td>1976.0</td>\n",
       "      <td>RFn</td>\n",
       "      <td>2.0</td>\n",
       "      <td>475.0</td>\n",
       "      <td>TA</td>\n",
       "      <td>TA</td>\n",
       "      <td>Y</td>\n",
       "      <td>0</td>\n",
       "      <td>44</td>\n",
       "      <td>0</td>\n",
       "      <td>0</td>\n",
       "      <td>0</td>\n",
       "      <td>0</td>\n",
       "      <td>NaN</td>\n",
       "      <td>NaN</td>\n",
       "      <td>NaN</td>\n",
       "      <td>0</td>\n",
       "      <td>3</td>\n",
       "      <td>2010</td>\n",
       "      <td>WD</td>\n",
       "      <td>130500</td>\n",
       "      <td>0</td>\n",
       "      <td>0</td>\n",
       "      <td>0</td>\n",
       "      <td>0</td>\n",
       "      <td>0</td>\n",
       "      <td>0</td>\n",
       "      <td>0</td>\n",
       "      <td>0</td>\n",
       "      <td>0</td>\n",
       "      <td>0</td>\n",
       "      <td>0</td>\n",
       "      <td>0</td>\n",
       "      <td>0</td>\n",
       "      <td>0</td>\n",
       "      <td>0</td>\n",
       "      <td>0</td>\n",
       "      <td>0</td>\n",
       "      <td>0</td>\n",
       "      <td>0</td>\n",
       "      <td>0</td>\n",
       "      <td>0</td>\n",
       "      <td>1</td>\n",
       "      <td>0</td>\n",
       "      <td>0</td>\n",
       "      <td>0</td>\n",
       "      <td>0</td>\n",
       "      <td>0</td>\n",
       "      <td>2958</td>\n",
       "      <td>0</td>\n",
       "      <td>1.4</td>\n",
       "      <td>2070.6</td>\n",
       "      <td>950.0</td>\n",
       "    </tr>\n",
       "    <tr>\n",
       "      <th>1</th>\n",
       "      <td>544</td>\n",
       "      <td>531379050</td>\n",
       "      <td>60</td>\n",
       "      <td>RL</td>\n",
       "      <td>43.0</td>\n",
       "      <td>11492</td>\n",
       "      <td>Pave</td>\n",
       "      <td>NaN</td>\n",
       "      <td>IR1</td>\n",
       "      <td>Lvl</td>\n",
       "      <td>AllPub</td>\n",
       "      <td>CulDSac</td>\n",
       "      <td>Gtl</td>\n",
       "      <td>SawyerW</td>\n",
       "      <td>Norm</td>\n",
       "      <td>Norm</td>\n",
       "      <td>1Fam</td>\n",
       "      <td>2Story</td>\n",
       "      <td>7</td>\n",
       "      <td>5</td>\n",
       "      <td>1996</td>\n",
       "      <td>1997</td>\n",
       "      <td>Gable</td>\n",
       "      <td>CompShg</td>\n",
       "      <td>VinylSd</td>\n",
       "      <td>VinylSd</td>\n",
       "      <td>BrkFace</td>\n",
       "      <td>132.0</td>\n",
       "      <td>Gd</td>\n",
       "      <td>TA</td>\n",
       "      <td>PConc</td>\n",
       "      <td>Gd</td>\n",
       "      <td>TA</td>\n",
       "      <td>No</td>\n",
       "      <td>GLQ</td>\n",
       "      <td>637.0</td>\n",
       "      <td>Unf</td>\n",
       "      <td>0.0</td>\n",
       "      <td>276.0</td>\n",
       "      <td>913.0</td>\n",
       "      <td>GasA</td>\n",
       "      <td>Ex</td>\n",
       "      <td>Y</td>\n",
       "      <td>SBrkr</td>\n",
       "      <td>913</td>\n",
       "      <td>1209</td>\n",
       "      <td>0</td>\n",
       "      <td>2122</td>\n",
       "      <td>1.0</td>\n",
       "      <td>0.0</td>\n",
       "      <td>2</td>\n",
       "      <td>1</td>\n",
       "      <td>4</td>\n",
       "      <td>1</td>\n",
       "      <td>Gd</td>\n",
       "      <td>8</td>\n",
       "      <td>Typ</td>\n",
       "      <td>1</td>\n",
       "      <td>TA</td>\n",
       "      <td>Attchd</td>\n",
       "      <td>1997.0</td>\n",
       "      <td>RFn</td>\n",
       "      <td>2.0</td>\n",
       "      <td>559.0</td>\n",
       "      <td>TA</td>\n",
       "      <td>TA</td>\n",
       "      <td>Y</td>\n",
       "      <td>0</td>\n",
       "      <td>74</td>\n",
       "      <td>0</td>\n",
       "      <td>0</td>\n",
       "      <td>0</td>\n",
       "      <td>0</td>\n",
       "      <td>NaN</td>\n",
       "      <td>NaN</td>\n",
       "      <td>NaN</td>\n",
       "      <td>0</td>\n",
       "      <td>4</td>\n",
       "      <td>2009</td>\n",
       "      <td>WD</td>\n",
       "      <td>220000</td>\n",
       "      <td>0</td>\n",
       "      <td>0</td>\n",
       "      <td>0</td>\n",
       "      <td>0</td>\n",
       "      <td>0</td>\n",
       "      <td>0</td>\n",
       "      <td>0</td>\n",
       "      <td>0</td>\n",
       "      <td>0</td>\n",
       "      <td>0</td>\n",
       "      <td>0</td>\n",
       "      <td>0</td>\n",
       "      <td>0</td>\n",
       "      <td>0</td>\n",
       "      <td>0</td>\n",
       "      <td>0</td>\n",
       "      <td>0</td>\n",
       "      <td>0</td>\n",
       "      <td>0</td>\n",
       "      <td>0</td>\n",
       "      <td>0</td>\n",
       "      <td>0</td>\n",
       "      <td>1</td>\n",
       "      <td>0</td>\n",
       "      <td>0</td>\n",
       "      <td>0</td>\n",
       "      <td>0</td>\n",
       "      <td>4244</td>\n",
       "      <td>2122</td>\n",
       "      <td>2.0</td>\n",
       "      <td>4244.0</td>\n",
       "      <td>1118.0</td>\n",
       "    </tr>\n",
       "  </tbody>\n",
       "</table>\n",
       "</div>"
      ],
      "text/plain": [
       "    id        pid  ms_subclass ms_zoning  lot_frontage  lot_area street alley  \\\n",
       "0  109  533352170           60        RL           0.0     13517   Pave   NaN   \n",
       "1  544  531379050           60        RL          43.0     11492   Pave   NaN   \n",
       "\n",
       "  lot_shape land_contour utilities lot_config land_slope neighborhood  \\\n",
       "0       IR1          Lvl    AllPub    CulDSac        Gtl       Sawyer   \n",
       "1       IR1          Lvl    AllPub    CulDSac        Gtl      SawyerW   \n",
       "\n",
       "  condition_1 condition_2 bldg_type house_style  overall_qual  overall_cond  \\\n",
       "0        RRAe        Norm      1Fam      2Story             6             8   \n",
       "1        Norm        Norm      1Fam      2Story             7             5   \n",
       "\n",
       "   year_built  year_remod/add roof_style roof_matl exterior_1st exterior_2nd  \\\n",
       "0        1976            2005      Gable   CompShg      HdBoard      Plywood   \n",
       "1        1996            1997      Gable   CompShg      VinylSd      VinylSd   \n",
       "\n",
       "  mas_vnr_type  mas_vnr_area exter_qual exter_cond foundation bsmt_qual  \\\n",
       "0      BrkFace         289.0         Gd         TA     CBlock        TA   \n",
       "1      BrkFace         132.0         Gd         TA      PConc        Gd   \n",
       "\n",
       "  bsmt_cond bsmt_exposure bsmtfin_type_1  bsmtfin_sf_1 bsmtfin_type_2  \\\n",
       "0        TA            No            GLQ         533.0            Unf   \n",
       "1        TA            No            GLQ         637.0            Unf   \n",
       "\n",
       "   bsmtfin_sf_2  bsmt_unf_sf  total_bsmt_sf heating heating_qc central_air  \\\n",
       "0           0.0        192.0          725.0    GasA         Ex           Y   \n",
       "1           0.0        276.0          913.0    GasA         Ex           Y   \n",
       "\n",
       "  electrical  1st_flr_sf  2nd_flr_sf  low_qual_fin_sf  gr_liv_area  \\\n",
       "0      SBrkr         725         754                0         1479   \n",
       "1      SBrkr         913        1209                0         2122   \n",
       "\n",
       "   bsmt_full_bath  bsmt_half_bath  full_bath  half_bath  bedroom_abvgr  \\\n",
       "0             0.0             0.0          2          1              3   \n",
       "1             1.0             0.0          2          1              4   \n",
       "\n",
       "   kitchen_abvgr kitchen_qual  totrms_abvgrd functional  fireplaces  \\\n",
       "0              1           Gd              6        Typ           0   \n",
       "1              1           Gd              8        Typ           1   \n",
       "\n",
       "  fireplace_qu garage_type  garage_yr_blt garage_finish  garage_cars  \\\n",
       "0          NaN      Attchd         1976.0           RFn          2.0   \n",
       "1           TA      Attchd         1997.0           RFn          2.0   \n",
       "\n",
       "   garage_area garage_qual garage_cond paved_drive  wood_deck_sf  \\\n",
       "0        475.0          TA          TA           Y             0   \n",
       "1        559.0          TA          TA           Y             0   \n",
       "\n",
       "   open_porch_sf  enclosed_porch  3ssn_porch  screen_porch  pool_area pool_qc  \\\n",
       "0             44               0           0             0          0     NaN   \n",
       "1             74               0           0             0          0     NaN   \n",
       "\n",
       "  fence misc_feature  misc_val  mo_sold  yr_sold sale_type  saleprice  \\\n",
       "0   NaN          NaN         0        3     2010       WD      130500   \n",
       "1   NaN          NaN         0        4     2009       WD      220000   \n",
       "\n",
       "   neighborhood_Blueste  neighborhood_BrDale  neighborhood_BrkSide  \\\n",
       "0                     0                    0                     0   \n",
       "1                     0                    0                     0   \n",
       "\n",
       "   neighborhood_ClearCr  neighborhood_CollgCr  neighborhood_Crawfor  \\\n",
       "0                     0                     0                     0   \n",
       "1                     0                     0                     0   \n",
       "\n",
       "   neighborhood_Edwards  neighborhood_Gilbert  neighborhood_Greens  \\\n",
       "0                     0                     0                    0   \n",
       "1                     0                     0                    0   \n",
       "\n",
       "   neighborhood_GrnHill  neighborhood_IDOTRR  neighborhood_Landmrk  \\\n",
       "0                     0                    0                     0   \n",
       "1                     0                    0                     0   \n",
       "\n",
       "   neighborhood_MeadowV  neighborhood_Mitchel  neighborhood_NAmes  \\\n",
       "0                     0                     0                   0   \n",
       "1                     0                     0                   0   \n",
       "\n",
       "   neighborhood_NPkVill  neighborhood_NWAmes  neighborhood_NoRidge  \\\n",
       "0                     0                    0                     0   \n",
       "1                     0                    0                     0   \n",
       "\n",
       "   neighborhood_NridgHt  neighborhood_OldTown  neighborhood_SWISU  \\\n",
       "0                     0                     0                   0   \n",
       "1                     0                     0                   0   \n",
       "\n",
       "   neighborhood_Sawyer  neighborhood_SawyerW  neighborhood_Somerst  \\\n",
       "0                    1                     0                     0   \n",
       "1                    0                     1                     0   \n",
       "\n",
       "   neighborhood_StoneBr  neighborhood_Timber  neighborhood_Veenker  fbxgrla  \\\n",
       "0                     0                    0                     0     2958   \n",
       "1                     0                    0                     0     4244   \n",
       "\n",
       "   frxgrla  nb_ranking  nbrkxgla  carsxara  \n",
       "0        0         1.4    2070.6     950.0  \n",
       "1     2122         2.0    4244.0    1118.0  "
      ]
     },
     "execution_count": 3,
     "metadata": {},
     "output_type": "execute_result"
    }
   ],
   "source": [
    "df.head(2)"
   ]
  },
  {
   "cell_type": "code",
   "execution_count": 4,
   "metadata": {},
   "outputs": [
    {
     "data": {
      "text/plain": [
       "(2050, 113)"
      ]
     },
     "execution_count": 4,
     "metadata": {},
     "output_type": "execute_result"
    }
   ],
   "source": [
    "df.shape"
   ]
  },
  {
   "cell_type": "markdown",
   "metadata": {},
   "source": [
    "# Handle null values"
   ]
  },
  {
   "cell_type": "code",
   "execution_count": 7,
   "metadata": {
    "scrolled": false
   },
   "outputs": [
    {
     "data": {
      "text/html": [
       "<div>\n",
       "<style scoped>\n",
       "    .dataframe tbody tr th:only-of-type {\n",
       "        vertical-align: middle;\n",
       "    }\n",
       "\n",
       "    .dataframe tbody tr th {\n",
       "        vertical-align: top;\n",
       "    }\n",
       "\n",
       "    .dataframe thead th {\n",
       "        text-align: right;\n",
       "    }\n",
       "</style>\n",
       "<table border=\"1\" class=\"dataframe\">\n",
       "  <thead>\n",
       "    <tr style=\"text-align: right;\">\n",
       "      <th></th>\n",
       "      <th>id</th>\n",
       "      <th>pid</th>\n",
       "      <th>ms_subclass</th>\n",
       "      <th>lot_frontage</th>\n",
       "      <th>lot_area</th>\n",
       "      <th>overall_qual</th>\n",
       "      <th>overall_cond</th>\n",
       "      <th>year_built</th>\n",
       "      <th>year_remod/add</th>\n",
       "      <th>mas_vnr_area</th>\n",
       "      <th>bsmtfin_sf_1</th>\n",
       "      <th>bsmtfin_sf_2</th>\n",
       "      <th>bsmt_unf_sf</th>\n",
       "      <th>total_bsmt_sf</th>\n",
       "      <th>1st_flr_sf</th>\n",
       "      <th>2nd_flr_sf</th>\n",
       "      <th>low_qual_fin_sf</th>\n",
       "      <th>gr_liv_area</th>\n",
       "      <th>bsmt_full_bath</th>\n",
       "      <th>bsmt_half_bath</th>\n",
       "      <th>full_bath</th>\n",
       "      <th>half_bath</th>\n",
       "      <th>bedroom_abvgr</th>\n",
       "      <th>kitchen_abvgr</th>\n",
       "      <th>totrms_abvgrd</th>\n",
       "      <th>fireplaces</th>\n",
       "      <th>garage_yr_blt</th>\n",
       "      <th>garage_cars</th>\n",
       "      <th>garage_area</th>\n",
       "      <th>wood_deck_sf</th>\n",
       "      <th>open_porch_sf</th>\n",
       "      <th>enclosed_porch</th>\n",
       "      <th>3ssn_porch</th>\n",
       "      <th>screen_porch</th>\n",
       "      <th>pool_area</th>\n",
       "      <th>misc_val</th>\n",
       "      <th>mo_sold</th>\n",
       "      <th>yr_sold</th>\n",
       "      <th>saleprice</th>\n",
       "      <th>neighborhood_Blueste</th>\n",
       "      <th>neighborhood_BrDale</th>\n",
       "      <th>neighborhood_BrkSide</th>\n",
       "      <th>neighborhood_ClearCr</th>\n",
       "      <th>neighborhood_CollgCr</th>\n",
       "      <th>neighborhood_Crawfor</th>\n",
       "      <th>neighborhood_Edwards</th>\n",
       "      <th>neighborhood_Gilbert</th>\n",
       "      <th>neighborhood_Greens</th>\n",
       "      <th>neighborhood_GrnHill</th>\n",
       "      <th>neighborhood_IDOTRR</th>\n",
       "      <th>neighborhood_Landmrk</th>\n",
       "      <th>neighborhood_MeadowV</th>\n",
       "      <th>neighborhood_Mitchel</th>\n",
       "      <th>neighborhood_NAmes</th>\n",
       "      <th>neighborhood_NPkVill</th>\n",
       "      <th>neighborhood_NWAmes</th>\n",
       "      <th>neighborhood_NoRidge</th>\n",
       "      <th>neighborhood_NridgHt</th>\n",
       "      <th>neighborhood_OldTown</th>\n",
       "      <th>neighborhood_SWISU</th>\n",
       "      <th>neighborhood_Sawyer</th>\n",
       "      <th>neighborhood_SawyerW</th>\n",
       "      <th>neighborhood_Somerst</th>\n",
       "      <th>neighborhood_StoneBr</th>\n",
       "      <th>neighborhood_Timber</th>\n",
       "      <th>neighborhood_Veenker</th>\n",
       "      <th>fbxgrla</th>\n",
       "      <th>frxgrla</th>\n",
       "      <th>nb_ranking</th>\n",
       "      <th>nbrkxgla</th>\n",
       "      <th>carsxara</th>\n",
       "    </tr>\n",
       "  </thead>\n",
       "  <tbody>\n",
       "    <tr>\n",
       "      <th>count</th>\n",
       "      <td>2050.000000</td>\n",
       "      <td>2.050000e+03</td>\n",
       "      <td>2050.000000</td>\n",
       "      <td>2050.000000</td>\n",
       "      <td>2050.000000</td>\n",
       "      <td>2050.000000</td>\n",
       "      <td>2050.000000</td>\n",
       "      <td>2050.000000</td>\n",
       "      <td>2050.000000</td>\n",
       "      <td>2050.000000</td>\n",
       "      <td>2050.000000</td>\n",
       "      <td>2050.000000</td>\n",
       "      <td>2050.000000</td>\n",
       "      <td>2050.000000</td>\n",
       "      <td>2050.000000</td>\n",
       "      <td>2050.000000</td>\n",
       "      <td>2050.000000</td>\n",
       "      <td>2050.000000</td>\n",
       "      <td>2050.000000</td>\n",
       "      <td>2049.000000</td>\n",
       "      <td>2050.000000</td>\n",
       "      <td>2050.000000</td>\n",
       "      <td>2050.000000</td>\n",
       "      <td>2050.000000</td>\n",
       "      <td>2050.000000</td>\n",
       "      <td>2050.000000</td>\n",
       "      <td>2050.000000</td>\n",
       "      <td>2049.000000</td>\n",
       "      <td>2050.000000</td>\n",
       "      <td>2050.000000</td>\n",
       "      <td>2050.000000</td>\n",
       "      <td>2050.000000</td>\n",
       "      <td>2050.000000</td>\n",
       "      <td>2050.000000</td>\n",
       "      <td>2050.000000</td>\n",
       "      <td>2050.000000</td>\n",
       "      <td>2050.000000</td>\n",
       "      <td>2050.000000</td>\n",
       "      <td>2050.000000</td>\n",
       "      <td>2050.000000</td>\n",
       "      <td>2050.000000</td>\n",
       "      <td>2050.000000</td>\n",
       "      <td>2050.000000</td>\n",
       "      <td>2050.000000</td>\n",
       "      <td>2050.000000</td>\n",
       "      <td>2050.000000</td>\n",
       "      <td>2050.000000</td>\n",
       "      <td>2050.000000</td>\n",
       "      <td>2050.000000</td>\n",
       "      <td>2050.000000</td>\n",
       "      <td>2050.000000</td>\n",
       "      <td>2050.000000</td>\n",
       "      <td>2050.000000</td>\n",
       "      <td>2050.00000</td>\n",
       "      <td>2050.000000</td>\n",
       "      <td>2050.000000</td>\n",
       "      <td>2050.000000</td>\n",
       "      <td>2050.000000</td>\n",
       "      <td>2050.000000</td>\n",
       "      <td>2050.00000</td>\n",
       "      <td>2050.000000</td>\n",
       "      <td>2050.000000</td>\n",
       "      <td>2050.000000</td>\n",
       "      <td>2050.000000</td>\n",
       "      <td>2050.000000</td>\n",
       "      <td>2050.000000</td>\n",
       "      <td>2050.000000</td>\n",
       "      <td>2050.000000</td>\n",
       "      <td>2050.000000</td>\n",
       "      <td>2050.000000</td>\n",
       "      <td>2050.000000</td>\n",
       "    </tr>\n",
       "    <tr>\n",
       "      <th>mean</th>\n",
       "      <td>1474.098049</td>\n",
       "      <td>7.134975e+08</td>\n",
       "      <td>57.026829</td>\n",
       "      <td>57.924390</td>\n",
       "      <td>10067.220488</td>\n",
       "      <td>6.113171</td>\n",
       "      <td>5.561463</td>\n",
       "      <td>1971.721463</td>\n",
       "      <td>1984.206829</td>\n",
       "      <td>98.674634</td>\n",
       "      <td>442.300488</td>\n",
       "      <td>47.959024</td>\n",
       "      <td>567.728293</td>\n",
       "      <td>1057.987805</td>\n",
       "      <td>1164.619024</td>\n",
       "      <td>329.489756</td>\n",
       "      <td>5.515610</td>\n",
       "      <td>1499.624390</td>\n",
       "      <td>0.427317</td>\n",
       "      <td>0.063446</td>\n",
       "      <td>1.577561</td>\n",
       "      <td>0.371220</td>\n",
       "      <td>2.843902</td>\n",
       "      <td>1.042927</td>\n",
       "      <td>6.437073</td>\n",
       "      <td>0.591220</td>\n",
       "      <td>1868.688293</td>\n",
       "      <td>1.776964</td>\n",
       "      <td>473.535122</td>\n",
       "      <td>93.879512</td>\n",
       "      <td>47.580000</td>\n",
       "      <td>22.582927</td>\n",
       "      <td>2.592683</td>\n",
       "      <td>16.519512</td>\n",
       "      <td>2.399024</td>\n",
       "      <td>51.599512</td>\n",
       "      <td>6.220976</td>\n",
       "      <td>2007.775610</td>\n",
       "      <td>181519.686829</td>\n",
       "      <td>0.002927</td>\n",
       "      <td>0.009268</td>\n",
       "      <td>0.036585</td>\n",
       "      <td>0.013171</td>\n",
       "      <td>0.087805</td>\n",
       "      <td>0.034634</td>\n",
       "      <td>0.069756</td>\n",
       "      <td>0.056585</td>\n",
       "      <td>0.001463</td>\n",
       "      <td>0.000976</td>\n",
       "      <td>0.033659</td>\n",
       "      <td>0.000488</td>\n",
       "      <td>0.011707</td>\n",
       "      <td>0.040000</td>\n",
       "      <td>0.15122</td>\n",
       "      <td>0.008293</td>\n",
       "      <td>0.042439</td>\n",
       "      <td>0.023415</td>\n",
       "      <td>0.059512</td>\n",
       "      <td>0.079512</td>\n",
       "      <td>0.01561</td>\n",
       "      <td>0.054146</td>\n",
       "      <td>0.042439</td>\n",
       "      <td>0.063415</td>\n",
       "      <td>0.018537</td>\n",
       "      <td>0.023415</td>\n",
       "      <td>0.008293</td>\n",
       "      <td>2535.272195</td>\n",
       "      <td>1033.008293</td>\n",
       "      <td>2.022415</td>\n",
       "      <td>3153.802293</td>\n",
       "      <td>988.764878</td>\n",
       "    </tr>\n",
       "    <tr>\n",
       "      <th>std</th>\n",
       "      <td>844.181724</td>\n",
       "      <td>1.886914e+08</td>\n",
       "      <td>42.826865</td>\n",
       "      <td>33.132999</td>\n",
       "      <td>6743.517958</td>\n",
       "      <td>1.425855</td>\n",
       "      <td>1.104310</td>\n",
       "      <td>30.179906</td>\n",
       "      <td>21.027815</td>\n",
       "      <td>174.353604</td>\n",
       "      <td>461.204124</td>\n",
       "      <td>165.000901</td>\n",
       "      <td>444.954786</td>\n",
       "      <td>449.410704</td>\n",
       "      <td>396.499270</td>\n",
       "      <td>425.712712</td>\n",
       "      <td>51.081185</td>\n",
       "      <td>500.392368</td>\n",
       "      <td>0.522631</td>\n",
       "      <td>0.251705</td>\n",
       "      <td>0.549265</td>\n",
       "      <td>0.501098</td>\n",
       "      <td>0.826610</td>\n",
       "      <td>0.209839</td>\n",
       "      <td>1.559677</td>\n",
       "      <td>0.638539</td>\n",
       "      <td>454.241249</td>\n",
       "      <td>0.764531</td>\n",
       "      <td>216.145575</td>\n",
       "      <td>128.564062</td>\n",
       "      <td>66.755256</td>\n",
       "      <td>59.857633</td>\n",
       "      <td>25.235706</td>\n",
       "      <td>57.387043</td>\n",
       "      <td>37.791752</td>\n",
       "      <td>573.532756</td>\n",
       "      <td>2.744967</td>\n",
       "      <td>1.312325</td>\n",
       "      <td>79245.655820</td>\n",
       "      <td>0.054034</td>\n",
       "      <td>0.095848</td>\n",
       "      <td>0.187787</td>\n",
       "      <td>0.114033</td>\n",
       "      <td>0.283080</td>\n",
       "      <td>0.182896</td>\n",
       "      <td>0.254798</td>\n",
       "      <td>0.231105</td>\n",
       "      <td>0.038236</td>\n",
       "      <td>0.031227</td>\n",
       "      <td>0.180393</td>\n",
       "      <td>0.022086</td>\n",
       "      <td>0.107591</td>\n",
       "      <td>0.196007</td>\n",
       "      <td>0.35835</td>\n",
       "      <td>0.090708</td>\n",
       "      <td>0.201638</td>\n",
       "      <td>0.151253</td>\n",
       "      <td>0.236639</td>\n",
       "      <td>0.270603</td>\n",
       "      <td>0.12399</td>\n",
       "      <td>0.226361</td>\n",
       "      <td>0.201638</td>\n",
       "      <td>0.243767</td>\n",
       "      <td>0.134914</td>\n",
       "      <td>0.151253</td>\n",
       "      <td>0.090708</td>\n",
       "      <td>1556.338007</td>\n",
       "      <td>1300.991420</td>\n",
       "      <td>0.537710</td>\n",
       "      <td>1676.941192</td>\n",
       "      <td>739.510012</td>\n",
       "    </tr>\n",
       "    <tr>\n",
       "      <th>min</th>\n",
       "      <td>1.000000</td>\n",
       "      <td>5.263011e+08</td>\n",
       "      <td>20.000000</td>\n",
       "      <td>0.000000</td>\n",
       "      <td>1300.000000</td>\n",
       "      <td>1.000000</td>\n",
       "      <td>1.000000</td>\n",
       "      <td>1872.000000</td>\n",
       "      <td>1950.000000</td>\n",
       "      <td>0.000000</td>\n",
       "      <td>0.000000</td>\n",
       "      <td>0.000000</td>\n",
       "      <td>0.000000</td>\n",
       "      <td>0.000000</td>\n",
       "      <td>334.000000</td>\n",
       "      <td>0.000000</td>\n",
       "      <td>0.000000</td>\n",
       "      <td>334.000000</td>\n",
       "      <td>0.000000</td>\n",
       "      <td>0.000000</td>\n",
       "      <td>0.000000</td>\n",
       "      <td>0.000000</td>\n",
       "      <td>0.000000</td>\n",
       "      <td>0.000000</td>\n",
       "      <td>2.000000</td>\n",
       "      <td>0.000000</td>\n",
       "      <td>0.000000</td>\n",
       "      <td>0.000000</td>\n",
       "      <td>0.000000</td>\n",
       "      <td>0.000000</td>\n",
       "      <td>0.000000</td>\n",
       "      <td>0.000000</td>\n",
       "      <td>0.000000</td>\n",
       "      <td>0.000000</td>\n",
       "      <td>0.000000</td>\n",
       "      <td>0.000000</td>\n",
       "      <td>1.000000</td>\n",
       "      <td>2006.000000</td>\n",
       "      <td>12789.000000</td>\n",
       "      <td>0.000000</td>\n",
       "      <td>0.000000</td>\n",
       "      <td>0.000000</td>\n",
       "      <td>0.000000</td>\n",
       "      <td>0.000000</td>\n",
       "      <td>0.000000</td>\n",
       "      <td>0.000000</td>\n",
       "      <td>0.000000</td>\n",
       "      <td>0.000000</td>\n",
       "      <td>0.000000</td>\n",
       "      <td>0.000000</td>\n",
       "      <td>0.000000</td>\n",
       "      <td>0.000000</td>\n",
       "      <td>0.000000</td>\n",
       "      <td>0.00000</td>\n",
       "      <td>0.000000</td>\n",
       "      <td>0.000000</td>\n",
       "      <td>0.000000</td>\n",
       "      <td>0.000000</td>\n",
       "      <td>0.000000</td>\n",
       "      <td>0.00000</td>\n",
       "      <td>0.000000</td>\n",
       "      <td>0.000000</td>\n",
       "      <td>0.000000</td>\n",
       "      <td>0.000000</td>\n",
       "      <td>0.000000</td>\n",
       "      <td>0.000000</td>\n",
       "      <td>0.000000</td>\n",
       "      <td>0.000000</td>\n",
       "      <td>1.000000</td>\n",
       "      <td>450.900000</td>\n",
       "      <td>0.000000</td>\n",
       "    </tr>\n",
       "    <tr>\n",
       "      <th>25%</th>\n",
       "      <td>753.250000</td>\n",
       "      <td>5.284581e+08</td>\n",
       "      <td>20.000000</td>\n",
       "      <td>43.250000</td>\n",
       "      <td>7500.000000</td>\n",
       "      <td>5.000000</td>\n",
       "      <td>5.000000</td>\n",
       "      <td>1954.000000</td>\n",
       "      <td>1965.000000</td>\n",
       "      <td>0.000000</td>\n",
       "      <td>0.000000</td>\n",
       "      <td>0.000000</td>\n",
       "      <td>220.000000</td>\n",
       "      <td>793.000000</td>\n",
       "      <td>879.250000</td>\n",
       "      <td>0.000000</td>\n",
       "      <td>0.000000</td>\n",
       "      <td>1130.250000</td>\n",
       "      <td>0.000000</td>\n",
       "      <td>0.000000</td>\n",
       "      <td>1.000000</td>\n",
       "      <td>0.000000</td>\n",
       "      <td>2.000000</td>\n",
       "      <td>1.000000</td>\n",
       "      <td>5.000000</td>\n",
       "      <td>0.000000</td>\n",
       "      <td>1957.250000</td>\n",
       "      <td>1.000000</td>\n",
       "      <td>319.000000</td>\n",
       "      <td>0.000000</td>\n",
       "      <td>0.000000</td>\n",
       "      <td>0.000000</td>\n",
       "      <td>0.000000</td>\n",
       "      <td>0.000000</td>\n",
       "      <td>0.000000</td>\n",
       "      <td>0.000000</td>\n",
       "      <td>4.000000</td>\n",
       "      <td>2007.000000</td>\n",
       "      <td>129862.500000</td>\n",
       "      <td>0.000000</td>\n",
       "      <td>0.000000</td>\n",
       "      <td>0.000000</td>\n",
       "      <td>0.000000</td>\n",
       "      <td>0.000000</td>\n",
       "      <td>0.000000</td>\n",
       "      <td>0.000000</td>\n",
       "      <td>0.000000</td>\n",
       "      <td>0.000000</td>\n",
       "      <td>0.000000</td>\n",
       "      <td>0.000000</td>\n",
       "      <td>0.000000</td>\n",
       "      <td>0.000000</td>\n",
       "      <td>0.000000</td>\n",
       "      <td>0.00000</td>\n",
       "      <td>0.000000</td>\n",
       "      <td>0.000000</td>\n",
       "      <td>0.000000</td>\n",
       "      <td>0.000000</td>\n",
       "      <td>0.000000</td>\n",
       "      <td>0.00000</td>\n",
       "      <td>0.000000</td>\n",
       "      <td>0.000000</td>\n",
       "      <td>0.000000</td>\n",
       "      <td>0.000000</td>\n",
       "      <td>0.000000</td>\n",
       "      <td>0.000000</td>\n",
       "      <td>1154.000000</td>\n",
       "      <td>0.000000</td>\n",
       "      <td>1.700000</td>\n",
       "      <td>1966.250000</td>\n",
       "      <td>320.500000</td>\n",
       "    </tr>\n",
       "    <tr>\n",
       "      <th>50%</th>\n",
       "      <td>1486.500000</td>\n",
       "      <td>5.354532e+08</td>\n",
       "      <td>50.000000</td>\n",
       "      <td>63.000000</td>\n",
       "      <td>9432.000000</td>\n",
       "      <td>6.000000</td>\n",
       "      <td>5.000000</td>\n",
       "      <td>1974.000000</td>\n",
       "      <td>1993.000000</td>\n",
       "      <td>0.000000</td>\n",
       "      <td>368.000000</td>\n",
       "      <td>0.000000</td>\n",
       "      <td>474.500000</td>\n",
       "      <td>994.500000</td>\n",
       "      <td>1093.000000</td>\n",
       "      <td>0.000000</td>\n",
       "      <td>0.000000</td>\n",
       "      <td>1444.500000</td>\n",
       "      <td>0.000000</td>\n",
       "      <td>0.000000</td>\n",
       "      <td>2.000000</td>\n",
       "      <td>0.000000</td>\n",
       "      <td>3.000000</td>\n",
       "      <td>1.000000</td>\n",
       "      <td>6.000000</td>\n",
       "      <td>1.000000</td>\n",
       "      <td>1978.000000</td>\n",
       "      <td>2.000000</td>\n",
       "      <td>480.000000</td>\n",
       "      <td>0.000000</td>\n",
       "      <td>27.000000</td>\n",
       "      <td>0.000000</td>\n",
       "      <td>0.000000</td>\n",
       "      <td>0.000000</td>\n",
       "      <td>0.000000</td>\n",
       "      <td>0.000000</td>\n",
       "      <td>6.000000</td>\n",
       "      <td>2008.000000</td>\n",
       "      <td>162500.000000</td>\n",
       "      <td>0.000000</td>\n",
       "      <td>0.000000</td>\n",
       "      <td>0.000000</td>\n",
       "      <td>0.000000</td>\n",
       "      <td>0.000000</td>\n",
       "      <td>0.000000</td>\n",
       "      <td>0.000000</td>\n",
       "      <td>0.000000</td>\n",
       "      <td>0.000000</td>\n",
       "      <td>0.000000</td>\n",
       "      <td>0.000000</td>\n",
       "      <td>0.000000</td>\n",
       "      <td>0.000000</td>\n",
       "      <td>0.000000</td>\n",
       "      <td>0.00000</td>\n",
       "      <td>0.000000</td>\n",
       "      <td>0.000000</td>\n",
       "      <td>0.000000</td>\n",
       "      <td>0.000000</td>\n",
       "      <td>0.000000</td>\n",
       "      <td>0.00000</td>\n",
       "      <td>0.000000</td>\n",
       "      <td>0.000000</td>\n",
       "      <td>0.000000</td>\n",
       "      <td>0.000000</td>\n",
       "      <td>0.000000</td>\n",
       "      <td>0.000000</td>\n",
       "      <td>2560.000000</td>\n",
       "      <td>944.500000</td>\n",
       "      <td>1.900000</td>\n",
       "      <td>2811.050000</td>\n",
       "      <td>960.000000</td>\n",
       "    </tr>\n",
       "    <tr>\n",
       "      <th>75%</th>\n",
       "      <td>2198.500000</td>\n",
       "      <td>9.071801e+08</td>\n",
       "      <td>70.000000</td>\n",
       "      <td>78.000000</td>\n",
       "      <td>11514.250000</td>\n",
       "      <td>7.000000</td>\n",
       "      <td>6.000000</td>\n",
       "      <td>2001.000000</td>\n",
       "      <td>2004.000000</td>\n",
       "      <td>159.500000</td>\n",
       "      <td>733.750000</td>\n",
       "      <td>0.000000</td>\n",
       "      <td>811.000000</td>\n",
       "      <td>1318.750000</td>\n",
       "      <td>1405.000000</td>\n",
       "      <td>693.250000</td>\n",
       "      <td>0.000000</td>\n",
       "      <td>1728.750000</td>\n",
       "      <td>1.000000</td>\n",
       "      <td>0.000000</td>\n",
       "      <td>2.000000</td>\n",
       "      <td>1.000000</td>\n",
       "      <td>3.000000</td>\n",
       "      <td>1.000000</td>\n",
       "      <td>7.000000</td>\n",
       "      <td>1.000000</td>\n",
       "      <td>2001.000000</td>\n",
       "      <td>2.000000</td>\n",
       "      <td>576.000000</td>\n",
       "      <td>168.000000</td>\n",
       "      <td>70.000000</td>\n",
       "      <td>0.000000</td>\n",
       "      <td>0.000000</td>\n",
       "      <td>0.000000</td>\n",
       "      <td>0.000000</td>\n",
       "      <td>0.000000</td>\n",
       "      <td>8.000000</td>\n",
       "      <td>2009.000000</td>\n",
       "      <td>214000.000000</td>\n",
       "      <td>0.000000</td>\n",
       "      <td>0.000000</td>\n",
       "      <td>0.000000</td>\n",
       "      <td>0.000000</td>\n",
       "      <td>0.000000</td>\n",
       "      <td>0.000000</td>\n",
       "      <td>0.000000</td>\n",
       "      <td>0.000000</td>\n",
       "      <td>0.000000</td>\n",
       "      <td>0.000000</td>\n",
       "      <td>0.000000</td>\n",
       "      <td>0.000000</td>\n",
       "      <td>0.000000</td>\n",
       "      <td>0.000000</td>\n",
       "      <td>0.00000</td>\n",
       "      <td>0.000000</td>\n",
       "      <td>0.000000</td>\n",
       "      <td>0.000000</td>\n",
       "      <td>0.000000</td>\n",
       "      <td>0.000000</td>\n",
       "      <td>0.00000</td>\n",
       "      <td>0.000000</td>\n",
       "      <td>0.000000</td>\n",
       "      <td>0.000000</td>\n",
       "      <td>0.000000</td>\n",
       "      <td>0.000000</td>\n",
       "      <td>0.000000</td>\n",
       "      <td>3418.000000</td>\n",
       "      <td>1694.000000</td>\n",
       "      <td>2.500000</td>\n",
       "      <td>3936.600000</td>\n",
       "      <td>1152.000000</td>\n",
       "    </tr>\n",
       "    <tr>\n",
       "      <th>max</th>\n",
       "      <td>2930.000000</td>\n",
       "      <td>9.241520e+08</td>\n",
       "      <td>190.000000</td>\n",
       "      <td>313.000000</td>\n",
       "      <td>159000.000000</td>\n",
       "      <td>10.000000</td>\n",
       "      <td>9.000000</td>\n",
       "      <td>2010.000000</td>\n",
       "      <td>2010.000000</td>\n",
       "      <td>1600.000000</td>\n",
       "      <td>5644.000000</td>\n",
       "      <td>1474.000000</td>\n",
       "      <td>2336.000000</td>\n",
       "      <td>6110.000000</td>\n",
       "      <td>5095.000000</td>\n",
       "      <td>1862.000000</td>\n",
       "      <td>1064.000000</td>\n",
       "      <td>5642.000000</td>\n",
       "      <td>3.000000</td>\n",
       "      <td>2.000000</td>\n",
       "      <td>4.000000</td>\n",
       "      <td>2.000000</td>\n",
       "      <td>8.000000</td>\n",
       "      <td>3.000000</td>\n",
       "      <td>15.000000</td>\n",
       "      <td>4.000000</td>\n",
       "      <td>2207.000000</td>\n",
       "      <td>5.000000</td>\n",
       "      <td>1418.000000</td>\n",
       "      <td>1424.000000</td>\n",
       "      <td>547.000000</td>\n",
       "      <td>432.000000</td>\n",
       "      <td>508.000000</td>\n",
       "      <td>490.000000</td>\n",
       "      <td>800.000000</td>\n",
       "      <td>17000.000000</td>\n",
       "      <td>12.000000</td>\n",
       "      <td>2010.000000</td>\n",
       "      <td>611657.000000</td>\n",
       "      <td>1.000000</td>\n",
       "      <td>1.000000</td>\n",
       "      <td>1.000000</td>\n",
       "      <td>1.000000</td>\n",
       "      <td>1.000000</td>\n",
       "      <td>1.000000</td>\n",
       "      <td>1.000000</td>\n",
       "      <td>1.000000</td>\n",
       "      <td>1.000000</td>\n",
       "      <td>1.000000</td>\n",
       "      <td>1.000000</td>\n",
       "      <td>1.000000</td>\n",
       "      <td>1.000000</td>\n",
       "      <td>1.000000</td>\n",
       "      <td>1.00000</td>\n",
       "      <td>1.000000</td>\n",
       "      <td>1.000000</td>\n",
       "      <td>1.000000</td>\n",
       "      <td>1.000000</td>\n",
       "      <td>1.000000</td>\n",
       "      <td>1.00000</td>\n",
       "      <td>1.000000</td>\n",
       "      <td>1.000000</td>\n",
       "      <td>1.000000</td>\n",
       "      <td>1.000000</td>\n",
       "      <td>1.000000</td>\n",
       "      <td>1.000000</td>\n",
       "      <td>11460.000000</td>\n",
       "      <td>16926.000000</td>\n",
       "      <td>3.600000</td>\n",
       "      <td>12204.000000</td>\n",
       "      <td>5920.000000</td>\n",
       "    </tr>\n",
       "  </tbody>\n",
       "</table>\n",
       "</div>"
      ],
      "text/plain": [
       "                id           pid  ms_subclass  lot_frontage       lot_area  \\\n",
       "count  2050.000000  2.050000e+03  2050.000000   2050.000000    2050.000000   \n",
       "mean   1474.098049  7.134975e+08    57.026829     57.924390   10067.220488   \n",
       "std     844.181724  1.886914e+08    42.826865     33.132999    6743.517958   \n",
       "min       1.000000  5.263011e+08    20.000000      0.000000    1300.000000   \n",
       "25%     753.250000  5.284581e+08    20.000000     43.250000    7500.000000   \n",
       "50%    1486.500000  5.354532e+08    50.000000     63.000000    9432.000000   \n",
       "75%    2198.500000  9.071801e+08    70.000000     78.000000   11514.250000   \n",
       "max    2930.000000  9.241520e+08   190.000000    313.000000  159000.000000   \n",
       "\n",
       "       overall_qual  overall_cond   year_built  year_remod/add  mas_vnr_area  \\\n",
       "count   2050.000000   2050.000000  2050.000000     2050.000000   2050.000000   \n",
       "mean       6.113171      5.561463  1971.721463     1984.206829     98.674634   \n",
       "std        1.425855      1.104310    30.179906       21.027815    174.353604   \n",
       "min        1.000000      1.000000  1872.000000     1950.000000      0.000000   \n",
       "25%        5.000000      5.000000  1954.000000     1965.000000      0.000000   \n",
       "50%        6.000000      5.000000  1974.000000     1993.000000      0.000000   \n",
       "75%        7.000000      6.000000  2001.000000     2004.000000    159.500000   \n",
       "max       10.000000      9.000000  2010.000000     2010.000000   1600.000000   \n",
       "\n",
       "       bsmtfin_sf_1  bsmtfin_sf_2  bsmt_unf_sf  total_bsmt_sf   1st_flr_sf  \\\n",
       "count   2050.000000   2050.000000  2050.000000    2050.000000  2050.000000   \n",
       "mean     442.300488     47.959024   567.728293    1057.987805  1164.619024   \n",
       "std      461.204124    165.000901   444.954786     449.410704   396.499270   \n",
       "min        0.000000      0.000000     0.000000       0.000000   334.000000   \n",
       "25%        0.000000      0.000000   220.000000     793.000000   879.250000   \n",
       "50%      368.000000      0.000000   474.500000     994.500000  1093.000000   \n",
       "75%      733.750000      0.000000   811.000000    1318.750000  1405.000000   \n",
       "max     5644.000000   1474.000000  2336.000000    6110.000000  5095.000000   \n",
       "\n",
       "        2nd_flr_sf  low_qual_fin_sf  gr_liv_area  bsmt_full_bath  \\\n",
       "count  2050.000000      2050.000000  2050.000000     2050.000000   \n",
       "mean    329.489756         5.515610  1499.624390        0.427317   \n",
       "std     425.712712        51.081185   500.392368        0.522631   \n",
       "min       0.000000         0.000000   334.000000        0.000000   \n",
       "25%       0.000000         0.000000  1130.250000        0.000000   \n",
       "50%       0.000000         0.000000  1444.500000        0.000000   \n",
       "75%     693.250000         0.000000  1728.750000        1.000000   \n",
       "max    1862.000000      1064.000000  5642.000000        3.000000   \n",
       "\n",
       "       bsmt_half_bath    full_bath    half_bath  bedroom_abvgr  kitchen_abvgr  \\\n",
       "count     2049.000000  2050.000000  2050.000000    2050.000000    2050.000000   \n",
       "mean         0.063446     1.577561     0.371220       2.843902       1.042927   \n",
       "std          0.251705     0.549265     0.501098       0.826610       0.209839   \n",
       "min          0.000000     0.000000     0.000000       0.000000       0.000000   \n",
       "25%          0.000000     1.000000     0.000000       2.000000       1.000000   \n",
       "50%          0.000000     2.000000     0.000000       3.000000       1.000000   \n",
       "75%          0.000000     2.000000     1.000000       3.000000       1.000000   \n",
       "max          2.000000     4.000000     2.000000       8.000000       3.000000   \n",
       "\n",
       "       totrms_abvgrd   fireplaces  garage_yr_blt  garage_cars  garage_area  \\\n",
       "count    2050.000000  2050.000000    2050.000000  2049.000000  2050.000000   \n",
       "mean        6.437073     0.591220    1868.688293     1.776964   473.535122   \n",
       "std         1.559677     0.638539     454.241249     0.764531   216.145575   \n",
       "min         2.000000     0.000000       0.000000     0.000000     0.000000   \n",
       "25%         5.000000     0.000000    1957.250000     1.000000   319.000000   \n",
       "50%         6.000000     1.000000    1978.000000     2.000000   480.000000   \n",
       "75%         7.000000     1.000000    2001.000000     2.000000   576.000000   \n",
       "max        15.000000     4.000000    2207.000000     5.000000  1418.000000   \n",
       "\n",
       "       wood_deck_sf  open_porch_sf  enclosed_porch   3ssn_porch  screen_porch  \\\n",
       "count   2050.000000    2050.000000     2050.000000  2050.000000   2050.000000   \n",
       "mean      93.879512      47.580000       22.582927     2.592683     16.519512   \n",
       "std      128.564062      66.755256       59.857633    25.235706     57.387043   \n",
       "min        0.000000       0.000000        0.000000     0.000000      0.000000   \n",
       "25%        0.000000       0.000000        0.000000     0.000000      0.000000   \n",
       "50%        0.000000      27.000000        0.000000     0.000000      0.000000   \n",
       "75%      168.000000      70.000000        0.000000     0.000000      0.000000   \n",
       "max     1424.000000     547.000000      432.000000   508.000000    490.000000   \n",
       "\n",
       "         pool_area      misc_val      mo_sold      yr_sold      saleprice  \\\n",
       "count  2050.000000   2050.000000  2050.000000  2050.000000    2050.000000   \n",
       "mean      2.399024     51.599512     6.220976  2007.775610  181519.686829   \n",
       "std      37.791752    573.532756     2.744967     1.312325   79245.655820   \n",
       "min       0.000000      0.000000     1.000000  2006.000000   12789.000000   \n",
       "25%       0.000000      0.000000     4.000000  2007.000000  129862.500000   \n",
       "50%       0.000000      0.000000     6.000000  2008.000000  162500.000000   \n",
       "75%       0.000000      0.000000     8.000000  2009.000000  214000.000000   \n",
       "max     800.000000  17000.000000    12.000000  2010.000000  611657.000000   \n",
       "\n",
       "       neighborhood_Blueste  neighborhood_BrDale  neighborhood_BrkSide  \\\n",
       "count           2050.000000          2050.000000           2050.000000   \n",
       "mean               0.002927             0.009268              0.036585   \n",
       "std                0.054034             0.095848              0.187787   \n",
       "min                0.000000             0.000000              0.000000   \n",
       "25%                0.000000             0.000000              0.000000   \n",
       "50%                0.000000             0.000000              0.000000   \n",
       "75%                0.000000             0.000000              0.000000   \n",
       "max                1.000000             1.000000              1.000000   \n",
       "\n",
       "       neighborhood_ClearCr  neighborhood_CollgCr  neighborhood_Crawfor  \\\n",
       "count           2050.000000           2050.000000           2050.000000   \n",
       "mean               0.013171              0.087805              0.034634   \n",
       "std                0.114033              0.283080              0.182896   \n",
       "min                0.000000              0.000000              0.000000   \n",
       "25%                0.000000              0.000000              0.000000   \n",
       "50%                0.000000              0.000000              0.000000   \n",
       "75%                0.000000              0.000000              0.000000   \n",
       "max                1.000000              1.000000              1.000000   \n",
       "\n",
       "       neighborhood_Edwards  neighborhood_Gilbert  neighborhood_Greens  \\\n",
       "count           2050.000000           2050.000000          2050.000000   \n",
       "mean               0.069756              0.056585             0.001463   \n",
       "std                0.254798              0.231105             0.038236   \n",
       "min                0.000000              0.000000             0.000000   \n",
       "25%                0.000000              0.000000             0.000000   \n",
       "50%                0.000000              0.000000             0.000000   \n",
       "75%                0.000000              0.000000             0.000000   \n",
       "max                1.000000              1.000000             1.000000   \n",
       "\n",
       "       neighborhood_GrnHill  neighborhood_IDOTRR  neighborhood_Landmrk  \\\n",
       "count           2050.000000          2050.000000           2050.000000   \n",
       "mean               0.000976             0.033659              0.000488   \n",
       "std                0.031227             0.180393              0.022086   \n",
       "min                0.000000             0.000000              0.000000   \n",
       "25%                0.000000             0.000000              0.000000   \n",
       "50%                0.000000             0.000000              0.000000   \n",
       "75%                0.000000             0.000000              0.000000   \n",
       "max                1.000000             1.000000              1.000000   \n",
       "\n",
       "       neighborhood_MeadowV  neighborhood_Mitchel  neighborhood_NAmes  \\\n",
       "count           2050.000000           2050.000000          2050.00000   \n",
       "mean               0.011707              0.040000             0.15122   \n",
       "std                0.107591              0.196007             0.35835   \n",
       "min                0.000000              0.000000             0.00000   \n",
       "25%                0.000000              0.000000             0.00000   \n",
       "50%                0.000000              0.000000             0.00000   \n",
       "75%                0.000000              0.000000             0.00000   \n",
       "max                1.000000              1.000000             1.00000   \n",
       "\n",
       "       neighborhood_NPkVill  neighborhood_NWAmes  neighborhood_NoRidge  \\\n",
       "count           2050.000000          2050.000000           2050.000000   \n",
       "mean               0.008293             0.042439              0.023415   \n",
       "std                0.090708             0.201638              0.151253   \n",
       "min                0.000000             0.000000              0.000000   \n",
       "25%                0.000000             0.000000              0.000000   \n",
       "50%                0.000000             0.000000              0.000000   \n",
       "75%                0.000000             0.000000              0.000000   \n",
       "max                1.000000             1.000000              1.000000   \n",
       "\n",
       "       neighborhood_NridgHt  neighborhood_OldTown  neighborhood_SWISU  \\\n",
       "count           2050.000000           2050.000000          2050.00000   \n",
       "mean               0.059512              0.079512             0.01561   \n",
       "std                0.236639              0.270603             0.12399   \n",
       "min                0.000000              0.000000             0.00000   \n",
       "25%                0.000000              0.000000             0.00000   \n",
       "50%                0.000000              0.000000             0.00000   \n",
       "75%                0.000000              0.000000             0.00000   \n",
       "max                1.000000              1.000000             1.00000   \n",
       "\n",
       "       neighborhood_Sawyer  neighborhood_SawyerW  neighborhood_Somerst  \\\n",
       "count          2050.000000           2050.000000           2050.000000   \n",
       "mean              0.054146              0.042439              0.063415   \n",
       "std               0.226361              0.201638              0.243767   \n",
       "min               0.000000              0.000000              0.000000   \n",
       "25%               0.000000              0.000000              0.000000   \n",
       "50%               0.000000              0.000000              0.000000   \n",
       "75%               0.000000              0.000000              0.000000   \n",
       "max               1.000000              1.000000              1.000000   \n",
       "\n",
       "       neighborhood_StoneBr  neighborhood_Timber  neighborhood_Veenker  \\\n",
       "count           2050.000000          2050.000000           2050.000000   \n",
       "mean               0.018537             0.023415              0.008293   \n",
       "std                0.134914             0.151253              0.090708   \n",
       "min                0.000000             0.000000              0.000000   \n",
       "25%                0.000000             0.000000              0.000000   \n",
       "50%                0.000000             0.000000              0.000000   \n",
       "75%                0.000000             0.000000              0.000000   \n",
       "max                1.000000             1.000000              1.000000   \n",
       "\n",
       "            fbxgrla       frxgrla   nb_ranking      nbrkxgla     carsxara  \n",
       "count   2050.000000   2050.000000  2050.000000   2050.000000  2050.000000  \n",
       "mean    2535.272195   1033.008293     2.022415   3153.802293   988.764878  \n",
       "std     1556.338007   1300.991420     0.537710   1676.941192   739.510012  \n",
       "min        0.000000      0.000000     1.000000    450.900000     0.000000  \n",
       "25%     1154.000000      0.000000     1.700000   1966.250000   320.500000  \n",
       "50%     2560.000000    944.500000     1.900000   2811.050000   960.000000  \n",
       "75%     3418.000000   1694.000000     2.500000   3936.600000  1152.000000  \n",
       "max    11460.000000  16926.000000     3.600000  12204.000000  5920.000000  "
      ]
     },
     "execution_count": 7,
     "metadata": {},
     "output_type": "execute_result"
    }
   ],
   "source": [
    "df.describe()"
   ]
  },
  {
   "cell_type": "code",
   "execution_count": 10,
   "metadata": {},
   "outputs": [
    {
     "data": {
      "text/plain": [
       "RL         1598\n",
       "RM          315\n",
       "FV          101\n",
       "C (all)      19\n",
       "RH           14\n",
       "A (agr)       2\n",
       "I (all)       1\n",
       "Name: ms_zoning, dtype: int64"
      ]
     },
     "execution_count": 10,
     "metadata": {},
     "output_type": "execute_result"
    }
   ],
   "source": [
    "df['ms_zoning'].value_counts()"
   ]
  },
  {
   "cell_type": "code",
   "execution_count": 11,
   "metadata": {},
   "outputs": [],
   "source": [
    "df['msz_ranking'] = df['ms_zoning'].map({'RL':7, 'RM':6, 'FV': 5, 'C (all)': 4,\n",
    "                                          'RH':3, 'A (agr)':2, 'I (all)': 1})"
   ]
  },
  {
   "cell_type": "code",
   "execution_count": 13,
   "metadata": {},
   "outputs": [
    {
     "data": {
      "text/plain": [
       "count    2050.000000\n",
       "mean        6.684878\n",
       "std         0.697353\n",
       "min         1.000000\n",
       "25%         7.000000\n",
       "50%         7.000000\n",
       "75%         7.000000\n",
       "max         7.000000\n",
       "Name: msz_ranking, dtype: float64"
      ]
     },
     "execution_count": 13,
     "metadata": {},
     "output_type": "execute_result"
    }
   ],
   "source": [
    "df['msz_ranking'].describe()"
   ]
  },
  {
   "cell_type": "markdown",
   "metadata": {},
   "source": [
    "df['fbxgrla'] = df['full_bath'] * df['gr_liv_area']"
   ]
  },
  {
   "cell_type": "markdown",
   "metadata": {},
   "source": [
    "df['frxgrla'] = df['fireplaces'] * df['gr_liv_area']"
   ]
  },
  {
   "cell_type": "markdown",
   "metadata": {},
   "source": [
    "df.shape"
   ]
  },
  {
   "cell_type": "markdown",
   "metadata": {},
   "source": [
    "# Clean-up and EDA"
   ]
  },
  {
   "cell_type": "code",
   "execution_count": 12,
   "metadata": {
    "scrolled": true
   },
   "outputs": [
    {
     "data": {
      "image/png": "[encoded data removed]",
      "text/plain": [
       "<Figure size 1080x1800 with 2 Axes>"
      ]
     },
     "metadata": {
      "needs_background": "light"
     },
     "output_type": "display_data"
    }
   ],
   "source": [
    "# sns.heatmap(df.corr()[['bpm']].sort_values('bpm'), annot = True)\n",
    "plt.figure(figsize = (15, 25))\n",
    "\n",
    "sns.heatmap(df.corr()[['saleprice']].sort_values('saleprice'), annot = True);"
   ]
  },
  {
   "cell_type": "code",
   "execution_count": null,
   "metadata": {
    "scrolled": true
   },
   "outputs": [],
   "source": [
    "sns.pairplot(df, y_vars=['saleprice'], x_vars=['nbrkxgla','overall_qual', 'nb_ranking', 'gr_liv_area', 'fbxgrla'])"
   ]
  },
  {
   "cell_type": "code",
   "execution_count": null,
   "metadata": {
    "scrolled": true
   },
   "outputs": [],
   "source": [
    "sns.pairplot(df, y_vars=['saleprice'], x_vars=['garage_area', 'total_bsmt_sf','1st_flr_sf', 'frxgrla'])"
   ]
  },
  {
   "cell_type": "code",
   "execution_count": null,
   "metadata": {},
   "outputs": [],
   "source": [
    "sns.pairplot(df, y_vars=['saleprice'], x_vars=['year_built', 'year_remod/add', 'totrms_abvgrd', 'garage_cars'])"
   ]
  },
  {
   "cell_type": "markdown",
   "metadata": {},
   "source": [
    "nb_dum_list = ['neighborhood_Blueste', 'neighborhood_BrDale', 'neighborhood_BrkSide', 'neighborhood_ClearCr',\n",
    "               'neighborhood_CollgCr', 'neighborhood_Crawfor', 'neighborhood_Edwards', 'neighborhood_Gilbert',\n",
    "               'neighborhood_Greens', 'neighborhood_GrnHill', 'neighborhood_IDOTRR', 'neighborhood_Landmrk',\n",
    "               'neighborhood_MeadowV', 'neighborhood_Mitchel', 'neighborhood_NAmes', 'neighborhood_NPkVill', \n",
    "               'neighborhood_NWAmes', 'neighborhood_NoRidge', 'neighborhood_NridgHt', 'neighborhood_OldTown',\n",
    "               'neighborhood_SWISU', 'neighborhood_Sawyer', 'neighborhood_SawyerW', 'neighborhood_Somerst',\n",
    "               'neighborhood_StoneBr', 'neighborhood_Timber','neighborhood_Veenker']"
   ]
  },
  {
   "cell_type": "markdown",
   "metadata": {},
   "source": [
    "nb_name = []\n",
    "for nb in nb_dum_list:\n",
    "    nb.split('_')[1]\n",
    "    nb_name.append(nb.split('_')[1])\n",
    "\n",
    "nb_name"
   ]
  },
  {
   "cell_type": "markdown",
   "metadata": {},
   "source": [
    "df['nb_ranking'] = df['neighborhood'].map({'Blueste':1.6, 'BrDale':1, 'BrkSide': 1.35, 'ClearCr': 2.35,\n",
    "                                          'CollgCr':2.5, 'Crawfor':2.5, 'Edwards': 1.7, 'Gilbert': 2.1,\n",
    "                                           'Greens': 1.95, 'GrnHill':3, 'IDOTRR':1.05, 'Landmrk':1.5,\n",
    "                                           'MeadowV':1.25, 'Mitchel':1.45, 'NAmes':1.9, 'NPkVill':1.35,\n",
    "                                           'NWAmes':2.05, 'NoRidge':3.4, 'NridgHt':2.7, 'OldTown':1.85,\n",
    "                                           'SWISU':1.45, 'Sawyer':1.4, 'SawyerW':2, 'Somerst':2.15,\n",
    "                                           'StoneBr':3.6, 'Timber':2.85, 'Veenker':2.6, 'Blmngtn':2.1})"
   ]
  },
  {
   "cell_type": "markdown",
   "metadata": {},
   "source": [
    "df['nb_ranking'].sort_values().value_counts()"
   ]
  },
  {
   "cell_type": "markdown",
   "metadata": {},
   "source": [
    "df['carsxara'] = df['garage_cars'] * df['garage_area']"
   ]
  },
  {
   "cell_type": "markdown",
   "metadata": {},
   "source": [
    "df['nbrkxgla'].isnull().sum()"
   ]
  },
  {
   "cell_type": "markdown",
   "metadata": {},
   "source": [
    "df[df['nbrkxgla'].isnull()]"
   ]
  },
  {
   "cell_type": "markdown",
   "metadata": {},
   "source": [
    "df.shape"
   ]
  },
  {
   "cell_type": "markdown",
   "metadata": {},
   "source": [
    "df.head(3)"
   ]
  },
  {
   "cell_type": "markdown",
   "metadata": {},
   "source": [
    "<font size=3 color= green><b>The following three lines of code are for neighborhood reviewing.</b></font>"
   ]
  },
  {
   "cell_type": "markdown",
   "metadata": {
    "scrolled": true
   },
   "source": [
    "sns.pairplot(df, y_vars=['saleprice'], x_vars=['neighborhood_BrkSide'])"
   ]
  },
  {
   "cell_type": "markdown",
   "metadata": {},
   "source": [
    "sns.pairplot(df, y_vars=['saleprice'], x_vars=['neighborhood_Timber',\n",
    " 'neighborhood_Veenker'])"
   ]
  },
  {
   "cell_type": "markdown",
   "metadata": {},
   "source": [
    "df['garage_finish'].describe()"
   ]
  },
  {
   "cell_type": "code",
   "execution_count": null,
   "metadata": {},
   "outputs": [],
   "source": [
    "df['carsxara'].value_counts()"
   ]
  },
  {
   "cell_type": "code",
   "execution_count": null,
   "metadata": {},
   "outputs": [],
   "source": [
    "df[df['carsxara'].isnull()]"
   ]
  },
  {
   "cell_type": "code",
   "execution_count": null,
   "metadata": {},
   "outputs": [],
   "source": [
    "df['carsxara'] = df['carsxara'].replace(np.nan, 0)"
   ]
  },
  {
   "cell_type": "markdown",
   "metadata": {},
   "source": [
    "<font size=3 color= green><b>The following three lines of code are for single column reviewing.</b></font>"
   ]
  },
  {
   "cell_type": "markdown",
   "metadata": {},
   "source": [
    "- Should I drop df['garage_yr_blt'] == 0?\n",
    "- drop df['mas_vnr_area'].isnull()? x22"
   ]
  },
  {
   "cell_type": "markdown",
   "metadata": {},
   "source": [
    "df['bsmt_full_bath'] = df['bsmt_full_bath'].fillna(0)"
   ]
  },
  {
   "cell_type": "markdown",
   "metadata": {},
   "source": [
    "df['bsmt_full_bath'].isnull().sum()"
   ]
  },
  {
   "cell_type": "markdown",
   "metadata": {},
   "source": [
    "df['bsmt_full_bath'].describe()"
   ]
  },
  {
   "cell_type": "markdown",
   "metadata": {},
   "source": [
    "df['full_bath'].value_counts()"
   ]
  },
  {
   "cell_type": "code",
   "execution_count": null,
   "metadata": {},
   "outputs": [],
   "source": [
    "df.to_csv('df_train_sub18.csv', index = False)"
   ]
  },
  {
   "cell_type": "markdown",
   "metadata": {},
   "source": [
    "# Define Feature Matrix & Target"
   ]
  },
  {
   "cell_type": "code",
   "execution_count": null,
   "metadata": {},
   "outputs": [],
   "source": [
    "features = ['nbrkxgla','overall_qual', 'nb_ranking', 'gr_liv_area', 'fbxgrla', 'total_bsmt_sf',\n",
    "            '1st_flr_sf', 'frxgrla', 'year_built', 'year_remod/add', 'totrms_abvgrd', 'carsxara', 'neighborhood_Blueste',\n",
    " 'neighborhood_BrDale',\n",
    " 'neighborhood_BrkSide',\n",
    " 'neighborhood_ClearCr',\n",
    " 'neighborhood_CollgCr',\n",
    " 'neighborhood_Crawfor',\n",
    " 'neighborhood_Edwards',\n",
    " 'neighborhood_Gilbert',\n",
    " 'neighborhood_Greens',\n",
    " 'neighborhood_GrnHill',\n",
    " 'neighborhood_IDOTRR',\n",
    " 'neighborhood_Landmrk',\n",
    " 'neighborhood_MeadowV',\n",
    " 'neighborhood_Mitchel',\n",
    " 'neighborhood_NAmes',\n",
    " 'neighborhood_NPkVill',\n",
    " 'neighborhood_NWAmes',\n",
    " 'neighborhood_NoRidge',\n",
    " 'neighborhood_NridgHt',\n",
    " 'neighborhood_OldTown',\n",
    " 'neighborhood_SWISU',\n",
    " 'neighborhood_Sawyer',\n",
    " 'neighborhood_SawyerW',\n",
    " 'neighborhood_Somerst',\n",
    " 'neighborhood_StoneBr',\n",
    " 'neighborhood_Timber',\n",
    " 'neighborhood_Veenker']"
   ]
  },
  {
   "cell_type": "code",
   "execution_count": null,
   "metadata": {},
   "outputs": [],
   "source": [
    "df[features].isnull().sum()"
   ]
  },
  {
   "cell_type": "code",
   "execution_count": null,
   "metadata": {},
   "outputs": [],
   "source": [
    "y = df['saleprice']\n",
    "X = df[features]"
   ]
  },
  {
   "cell_type": "markdown",
   "metadata": {},
   "source": [
    "import statsmodels.api as sm"
   ]
  },
  {
   "cell_type": "markdown",
   "metadata": {},
   "source": [
    "## Dan doing it this way to mimic sklearn \n",
    "\n",
    "X = sm.add_constant(X, prepend=True)\n",
    "    ## adding constant 1 \n",
    "results = sm.OLS(y, X).fit()"
   ]
  },
  {
   "cell_type": "markdown",
   "metadata": {},
   "source": [
    "results.summary()"
   ]
  },
  {
   "cell_type": "markdown",
   "metadata": {},
   "source": [
    "#### Train-Test-Split"
   ]
  },
  {
   "cell_type": "code",
   "execution_count": null,
   "metadata": {},
   "outputs": [],
   "source": [
    "X_train, X_valid, y_train, y_valid = train_test_split(X, y, random_state = 308)"
   ]
  },
  {
   "cell_type": "markdown",
   "metadata": {},
   "source": [
    "## Standardscaler transform"
   ]
  },
  {
   "cell_type": "markdown",
   "metadata": {},
   "source": [
    "ss = StandardScaler()"
   ]
  },
  {
   "cell_type": "markdown",
   "metadata": {},
   "source": [
    "ss.fit(X_train)"
   ]
  },
  {
   "cell_type": "markdown",
   "metadata": {},
   "source": [
    "X_train_sc = ss.transform(X_train)"
   ]
  },
  {
   "cell_type": "markdown",
   "metadata": {},
   "source": [
    "X_valid_sc = ss.transform(X_valid)"
   ]
  },
  {
   "cell_type": "markdown",
   "metadata": {},
   "source": [
    "#### Instantiate, Fit, Score Model"
   ]
  },
  {
   "cell_type": "code",
   "execution_count": null,
   "metadata": {},
   "outputs": [],
   "source": [
    "lr = LinearRegression()"
   ]
  },
  {
   "cell_type": "code",
   "execution_count": null,
   "metadata": {},
   "outputs": [],
   "source": [
    "lr.fit(X_train, y_train)"
   ]
  },
  {
   "cell_type": "code",
   "execution_count": null,
   "metadata": {},
   "outputs": [],
   "source": [
    "cross_val_score(lr, X_train, y_train)"
   ]
  },
  {
   "cell_type": "code",
   "execution_count": null,
   "metadata": {},
   "outputs": [],
   "source": [
    "cross_val_score(lr, X_train, y_train).mean()"
   ]
  },
  {
   "cell_type": "code",
   "execution_count": null,
   "metadata": {},
   "outputs": [],
   "source": [
    "cross_val_score(lr, X_valid, y_valid)"
   ]
  },
  {
   "cell_type": "code",
   "execution_count": null,
   "metadata": {},
   "outputs": [],
   "source": [
    "cross_val_score(lr, X_valid, y_valid).mean()"
   ]
  },
  {
   "cell_type": "code",
   "execution_count": null,
   "metadata": {},
   "outputs": [],
   "source": [
    "lr.score(X_train, y_train), lr.score(X_valid, y_valid)"
   ]
  },
  {
   "cell_type": "code",
   "execution_count": null,
   "metadata": {},
   "outputs": [],
   "source": [
    "list(zip(X.columns, lr.coef_))"
   ]
  },
  {
   "cell_type": "markdown",
   "metadata": {},
   "source": [
    "#### Now we have a model object, and we can run our df_test data through it"
   ]
  },
  {
   "cell_type": "markdown",
   "metadata": {},
   "source": [
    "# Prep df_test data"
   ]
  },
  {
   "cell_type": "code",
   "execution_count": null,
   "metadata": {},
   "outputs": [],
   "source": [
    "df_test = pd.read_csv('../project_2/df_test_sub10.csv')"
   ]
  },
  {
   "cell_type": "code",
   "execution_count": null,
   "metadata": {},
   "outputs": [],
   "source": [
    "df_test.shape"
   ]
  },
  {
   "cell_type": "code",
   "execution_count": null,
   "metadata": {},
   "outputs": [],
   "source": [
    "df_test.describe()"
   ]
  },
  {
   "cell_type": "code",
   "execution_count": null,
   "metadata": {},
   "outputs": [],
   "source": [
    "df_test['carsxara'] = df_test['garage_cars'] * df_test['garage_area']"
   ]
  },
  {
   "cell_type": "markdown",
   "metadata": {},
   "source": [
    "df_test['nb_ranking'] = df_test['neighborhood'].map({'Blueste':1.6, 'BrDale':1, 'BrkSide': 1.35, 'ClearCr': 2.35,\n",
    "                                          'CollgCr':2.5, 'Crawfor':2.5, 'Edwards': 1.7, 'Gilbert': 2.1,\n",
    "                                           'Greens': 1.95, 'GrnHill':3, 'IDOTRR':1.05, 'Landmrk':1.5,\n",
    "                                           'MeadowV':1.25, 'Mitchel':1.45, 'NAmes':1.9, 'NPkVill':1.35,\n",
    "                                           'NWAmes':2.05, 'NoRidge':3.4, 'NridgHt':2.7, 'OldTown':1.85,\n",
    "                                           'SWISU':1.45, 'Sawyer':1.4, 'SawyerW':2, 'Somerst':2.15,\n",
    "                                           'StoneBr':3.6, 'Timber':2.85, 'Veenker':2.6, 'Blmngtn':2.1})"
   ]
  },
  {
   "cell_type": "markdown",
   "metadata": {},
   "source": [
    "df_test['nb_ranking'].sort_values().value_counts()"
   ]
  },
  {
   "cell_type": "markdown",
   "metadata": {},
   "source": [
    "df_test['nbrkxgla'] = df_test['nb_ranking'] * df_test['gr_liv_area']"
   ]
  },
  {
   "cell_type": "markdown",
   "metadata": {},
   "source": [
    "df_test['fbxgrla'] = df_test['full_bath'] * df_test['gr_liv_area']"
   ]
  },
  {
   "cell_type": "markdown",
   "metadata": {},
   "source": [
    "df_test['frxgrla'] = df_test['fireplaces'] * df_test['gr_liv_area']"
   ]
  },
  {
   "cell_type": "code",
   "execution_count": null,
   "metadata": {},
   "outputs": [],
   "source": [
    "df_test[features].isnull().sum()"
   ]
  },
  {
   "cell_type": "code",
   "execution_count": null,
   "metadata": {},
   "outputs": [],
   "source": [
    "df_test.to_csv('df_test_sub18.csv', index = False)"
   ]
  },
  {
   "cell_type": "code",
   "execution_count": null,
   "metadata": {},
   "outputs": [],
   "source": [
    "df_test.shape"
   ]
  },
  {
   "cell_type": "markdown",
   "metadata": {},
   "source": [
    "#### Make sure there aren't any nulls in the columns we used in the model:"
   ]
  },
  {
   "cell_type": "code",
   "execution_count": null,
   "metadata": {},
   "outputs": [],
   "source": [
    "df_test[features].isnull().sum()"
   ]
  },
  {
   "cell_type": "code",
   "execution_count": null,
   "metadata": {},
   "outputs": [],
   "source": [
    "list(df_test.columns)"
   ]
  },
  {
   "cell_type": "code",
   "execution_count": null,
   "metadata": {},
   "outputs": [],
   "source": [
    "X_TEST = df_test[features]"
   ]
  },
  {
   "cell_type": "markdown",
   "metadata": {},
   "source": [
    "X_TEST_SC = ss.transform(X_TEST)"
   ]
  },
  {
   "cell_type": "markdown",
   "metadata": {},
   "source": [
    "#### Create Predictions"
   ]
  },
  {
   "cell_type": "code",
   "execution_count": null,
   "metadata": {},
   "outputs": [],
   "source": [
    "df_test['y_hat'] = lr.predict(X_TEST)"
   ]
  },
  {
   "cell_type": "code",
   "execution_count": null,
   "metadata": {},
   "outputs": [],
   "source": [
    "df_test.head()"
   ]
  },
  {
   "cell_type": "code",
   "execution_count": null,
   "metadata": {},
   "outputs": [],
   "source": [
    "df_test.shape"
   ]
  },
  {
   "cell_type": "markdown",
   "metadata": {},
   "source": [
    "# Create Submission"
   ]
  },
  {
   "cell_type": "code",
   "execution_count": null,
   "metadata": {},
   "outputs": [],
   "source": [
    "nars_submission = df_test[['id', 'y_hat']]"
   ]
  },
  {
   "cell_type": "markdown",
   "metadata": {},
   "source": [
    "# View Correct Submission Format"
   ]
  },
  {
   "cell_type": "code",
   "execution_count": null,
   "metadata": {},
   "outputs": [],
   "source": [
    "nars_submission.head()"
   ]
  },
  {
   "cell_type": "code",
   "execution_count": null,
   "metadata": {
    "scrolled": true
   },
   "outputs": [],
   "source": [
    "nars_submission.shape"
   ]
  },
  {
   "cell_type": "markdown",
   "metadata": {},
   "source": [
    "# Rename columns of the fisrt submission"
   ]
  },
  {
   "cell_type": "code",
   "execution_count": null,
   "metadata": {},
   "outputs": [],
   "source": [
    "nars_submission.rename(columns = {'id' : 'Id',\n",
    "                                     'y_hat' : 'SalePrice'}, inplace = True)"
   ]
  },
  {
   "cell_type": "code",
   "execution_count": null,
   "metadata": {},
   "outputs": [],
   "source": [
    "nars_submission.shape"
   ]
  },
  {
   "cell_type": "code",
   "execution_count": null,
   "metadata": {
    "scrolled": true
   },
   "outputs": [],
   "source": [
    "nars_submission.head()"
   ]
  },
  {
   "cell_type": "markdown",
   "metadata": {},
   "source": [
    "#### Export as a CSV"
   ]
  },
  {
   "cell_type": "code",
   "execution_count": null,
   "metadata": {},
   "outputs": [],
   "source": [
    "nars_submission.to_csv('nars_submission_18.csv', index = False)"
   ]
  },
  {
   "cell_type": "markdown",
   "metadata": {},
   "source": [
    "# Sample submission reference"
   ]
  },
  {
   "cell_type": "markdown",
   "metadata": {
    "scrolled": true
   },
   "source": [
    "sample_submission = pd.read_csv('sample_sub_reg.csv')\n",
    "sample_submission.shape"
   ]
  },
  {
   "cell_type": "markdown",
   "metadata": {},
   "source": [
    "sample_submission.head()"
   ]
  },
  {
   "attachments": {
    "Screen%20Shot%202020-10-04%20at%208.06.43%20PM.png": {
     "image/png": "[encoded data removed]"
    }
   },
   "cell_type": "markdown",
   "metadata": {},
   "source": [
    "![Screen%20Shot%202020-10-04%20at%208.06.43%20PM.png](attachment:Screen%20Shot%202020-10-04%20at%208.06.43%20PM.png)"
   ]
  }
 ],
 "metadata": {
  "kernelspec": {
   "display_name": "Python 3",
   "language": "python",
   "name": "python3"
  },
  "language_info": {
   "codemirror_mode": {
    "name": "ipython",
    "version": 3
   },
   "file_extension": ".py",
   "mimetype": "text/x-python",
   "name": "python",
   "nbconvert_exporter": "python",
   "pygments_lexer": "ipython3",
   "version": "3.8.3"
  }
 },
 "nbformat": 4,
 "nbformat_minor": 2
}
